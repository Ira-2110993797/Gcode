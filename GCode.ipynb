{
 "cells": [
  {
   "cell_type": "code",
   "execution_count": null,
   "id": "c4ced889",
   "metadata": {},
   "outputs": [],
   "source": [
    "import sys\n",
    "\n",
    "if __name__==\"__main__\":\n",
    "    if len(sys.argv)!= 2:\n",
    "        print(\"Usage: python.model.py <name>\")\n",
    "        sys.exit(1)\n",
    "        \n",
    "    name=sys.argv[1]\n",
    "    print(f\"{name}, welcome to docker!\")"
   ]
  }
 ],
 "metadata": {
  "kernelspec": {
   "display_name": "Python 3 (ipykernel)",
   "language": "python",
   "name": "python3"
  },
  "language_info": {
   "codemirror_mode": {
    "name": "ipython",
    "version": 3
   },
   "file_extension": ".py",
   "mimetype": "text/x-python",
   "name": "python",
   "nbconvert_exporter": "python",
   "pygments_lexer": "ipython3",
   "version": "3.9.12"
  }
 },
 "nbformat": 4,
 "nbformat_minor": 5
}
